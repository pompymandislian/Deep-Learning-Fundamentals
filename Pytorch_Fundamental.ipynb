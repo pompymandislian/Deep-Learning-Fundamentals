{
  "nbformat": 4,
  "nbformat_minor": 0,
  "metadata": {
    "colab": {
      "provenance": []
    },
    "kernelspec": {
      "name": "python3",
      "display_name": "Python 3"
    },
    "language_info": {
      "name": "python"
    }
  },
  "cells": [
    {
      "cell_type": "code",
      "execution_count": null,
      "metadata": {
        "id": "Dl3gA2GQGBrX"
      },
      "outputs": [],
      "source": [
        "import torch"
      ]
    },
    {
      "cell_type": "code",
      "source": [
        "# tensor\n",
        "scaler = torch.tensor(7)\n",
        "scaler"
      ],
      "metadata": {
        "colab": {
          "base_uri": "https://localhost:8080/"
        },
        "id": "tnr8x_VUGiVi",
        "outputId": "de120182-383b-454c-a558-dc19844d4ce9"
      },
      "execution_count": null,
      "outputs": [
        {
          "output_type": "execute_result",
          "data": {
            "text/plain": [
              "tensor(7)"
            ]
          },
          "metadata": {},
          "execution_count": 2
        }
      ]
    },
    {
      "cell_type": "code",
      "source": [
        "# vector\n",
        "vector = torch.tensor([7, 7])\n",
        "vector"
      ],
      "metadata": {
        "colab": {
          "base_uri": "https://localhost:8080/"
        },
        "id": "0yEZJ2DDHBxl",
        "outputId": "5d4be5f7-6d86-4351-cd04-cabe27371fe1"
      },
      "execution_count": null,
      "outputs": [
        {
          "output_type": "execute_result",
          "data": {
            "text/plain": [
              "tensor([7, 7])"
            ]
          },
          "metadata": {},
          "execution_count": 3
        }
      ]
    },
    {
      "cell_type": "code",
      "source": [
        "# Check the number of dimensions of vector\n",
        "print('ndim', vector.ndim)\n",
        "\n",
        "# shape\n",
        "print('vector', vector.shape)"
      ],
      "metadata": {
        "colab": {
          "base_uri": "https://localhost:8080/"
        },
        "id": "lZgY6BZ2HOnz",
        "outputId": "c380ed02-625d-45fc-8b19-616572bdf293"
      },
      "execution_count": null,
      "outputs": [
        {
          "output_type": "stream",
          "name": "stdout",
          "text": [
            "ndim 1\n",
            "vector torch.Size([2])\n"
          ]
        }
      ]
    },
    {
      "cell_type": "code",
      "source": [
        "# create a matrix\n",
        "matrix = torch.tensor([[7, 7],\n",
        "                      [8,8]])\n",
        "\n",
        "matrix"
      ],
      "metadata": {
        "colab": {
          "base_uri": "https://localhost:8080/"
        },
        "id": "aEayc4p3HZhi",
        "outputId": "a77a6818-4436-4087-be2c-07b9bc36c29a"
      },
      "execution_count": null,
      "outputs": [
        {
          "output_type": "execute_result",
          "data": {
            "text/plain": [
              "tensor([[7, 7],\n",
              "        [8, 8]])"
            ]
          },
          "metadata": {},
          "execution_count": 5
        }
      ]
    },
    {
      "cell_type": "code",
      "source": [
        "print('ndim', matrix.ndim)\n",
        "print('shape', matrix.shape)"
      ],
      "metadata": {
        "colab": {
          "base_uri": "https://localhost:8080/"
        },
        "id": "YYMb9dYcHlOH",
        "outputId": "868698cc-cfc0-47cf-9796-8b15e4b7b55b"
      },
      "execution_count": null,
      "outputs": [
        {
          "output_type": "stream",
          "name": "stdout",
          "text": [
            "ndim 2\n",
            "shape torch.Size([2, 2])\n"
          ]
        }
      ]
    },
    {
      "cell_type": "markdown",
      "source": [
        "<img src=\"https://raw.githubusercontent.com/mrdbourke/pytorch-deep-learning/main/images/00-scalar-vector-matrix-tensor.png\" alt=\"Deskripsi Gambar\" width=\"300\" height=\"200\">\n"
      ],
      "metadata": {
        "id": "YUtZ1hqvIQvp"
      }
    },
    {
      "cell_type": "code",
      "source": [
        "# random tensor\n",
        "\n",
        "random_tensor = torch.rand(size=(3, 4)) # 3 X 4\n",
        "random_tensor, random_tensor.dtype"
      ],
      "metadata": {
        "colab": {
          "base_uri": "https://localhost:8080/"
        },
        "id": "eY_ATD0BIACv",
        "outputId": "bae9530c-756b-4093-f58c-a0ebd6b565ce"
      },
      "execution_count": null,
      "outputs": [
        {
          "output_type": "execute_result",
          "data": {
            "text/plain": [
              "(tensor([[0.3307, 0.6790, 0.6878, 0.5332],\n",
              "         [0.9260, 0.7610, 0.0358, 0.9918],\n",
              "         [0.3661, 0.7605, 0.1759, 0.7852]]),\n",
              " torch.float32)"
            ]
          },
          "metadata": {},
          "execution_count": 7
        }
      ]
    },
    {
      "cell_type": "code",
      "source": [
        "random_tensor = torch.zeros(size=(3, 4)) # 3 X 4\n",
        "random_tensor, random_tensor.dtype"
      ],
      "metadata": {
        "colab": {
          "base_uri": "https://localhost:8080/"
        },
        "id": "gaAHakhQJDVs",
        "outputId": "b8f25bb6-4e41-4a23-854b-ec0d4880845e"
      },
      "execution_count": null,
      "outputs": [
        {
          "output_type": "execute_result",
          "data": {
            "text/plain": [
              "(tensor([[0., 0., 0., 0.],\n",
              "         [0., 0., 0., 0.],\n",
              "         [0., 0., 0., 0.]]),\n",
              " torch.float32)"
            ]
          },
          "metadata": {},
          "execution_count": 8
        }
      ]
    },
    {
      "cell_type": "code",
      "source": [
        "random_tensor = torch.ones(size=(3, 4)) # 3 X 4\n",
        "random_tensor, random_tensor.dtype"
      ],
      "metadata": {
        "colab": {
          "base_uri": "https://localhost:8080/"
        },
        "id": "qFB2fthrJHkx",
        "outputId": "592363f9-d31b-40a7-cb30-0a2fc78e9f2b"
      },
      "execution_count": null,
      "outputs": [
        {
          "output_type": "execute_result",
          "data": {
            "text/plain": [
              "(tensor([[1., 1., 1., 1.],\n",
              "         [1., 1., 1., 1.],\n",
              "         [1., 1., 1., 1.]]),\n",
              " torch.float32)"
            ]
          },
          "metadata": {},
          "execution_count": 9
        }
      ]
    },
    {
      "cell_type": "code",
      "source": [
        "# range\n",
        "zero_to_five = torch.range(start= 0, end = 5, step = 1)\n",
        "zero_to_five"
      ],
      "metadata": {
        "colab": {
          "base_uri": "https://localhost:8080/"
        },
        "id": "6z8rtKyMJO7K",
        "outputId": "04e8da6f-2fe9-40f0-fc2d-aebcd27aa3b9"
      },
      "execution_count": null,
      "outputs": [
        {
          "output_type": "stream",
          "name": "stderr",
          "text": [
            "<ipython-input-10-660cbe0856a3>:2: UserWarning: torch.range is deprecated and will be removed in a future release because its behavior is inconsistent with Python's range builtin. Instead, use torch.arange, which produces values in [start, end).\n",
            "  zero_to_five = torch.range(start= 0, end = 5, step = 1)\n"
          ]
        },
        {
          "output_type": "execute_result",
          "data": {
            "text/plain": [
              "tensor([0., 1., 2., 3., 4., 5.])"
            ]
          },
          "metadata": {},
          "execution_count": 10
        }
      ]
    },
    {
      "cell_type": "code",
      "source": [
        "float_32_tensor = torch.tensor([3.0, 6.0, 9.0],\n",
        "                               dtype = None, # default float 32\n",
        "                               device = None, # default using cpu\n",
        "                               requires_grad=False # if True, operations performed on the tensor are recorded\n",
        "                               )\n",
        "float_32_tensor.dtype, float_32_tensor.device, float_32_tensor.requires_grad"
      ],
      "metadata": {
        "colab": {
          "base_uri": "https://localhost:8080/"
        },
        "id": "26c8io8SJix8",
        "outputId": "1fac75b0-aa16-4efa-8202-b77f32fc83e4"
      },
      "execution_count": null,
      "outputs": [
        {
          "output_type": "execute_result",
          "data": {
            "text/plain": [
              "(torch.float32, device(type='cpu'), False)"
            ]
          },
          "metadata": {},
          "execution_count": 11
        }
      ]
    },
    {
      "cell_type": "code",
      "source": [
        "# manipulation tensor\n",
        "tensor = torch.tensor([7, 3])\n",
        "tensor = tensor + 10\n",
        "tensor = torch.multiply(tensor , 10)\n",
        "\n",
        "tensor"
      ],
      "metadata": {
        "colab": {
          "base_uri": "https://localhost:8080/"
        },
        "id": "gg2ahUrhKYN_",
        "outputId": "209cba25-fcf9-4f72-a505-c27a57df4732"
      },
      "execution_count": null,
      "outputs": [
        {
          "output_type": "execute_result",
          "data": {
            "text/plain": [
              "tensor([170, 130])"
            ]
          },
          "metadata": {},
          "execution_count": 12
        }
      ]
    },
    {
      "cell_type": "code",
      "source": [
        "tensor = torch.tensor([1, 2, 3])\n",
        "tensor.shape"
      ],
      "metadata": {
        "colab": {
          "base_uri": "https://localhost:8080/"
        },
        "id": "eJF_63J8a7pT",
        "outputId": "d6665b2d-0a5a-4213-f78d-bc895c591b9a"
      },
      "execution_count": null,
      "outputs": [
        {
          "output_type": "execute_result",
          "data": {
            "text/plain": [
              "torch.Size([3])"
            ]
          },
          "metadata": {},
          "execution_count": 13
        }
      ]
    },
    {
      "cell_type": "code",
      "source": [
        "tensor*tensor # multiply with it self"
      ],
      "metadata": {
        "colab": {
          "base_uri": "https://localhost:8080/"
        },
        "id": "0DQiu5rHbIFw",
        "outputId": "93623d79-aa1e-43c1-8389-8ef839798df6"
      },
      "execution_count": null,
      "outputs": [
        {
          "output_type": "execute_result",
          "data": {
            "text/plain": [
              "tensor([1, 4, 9])"
            ]
          },
          "metadata": {},
          "execution_count": 14
        }
      ]
    },
    {
      "cell_type": "code",
      "source": [
        "torch.matmul(tensor, tensor) # sum all tensor"
      ],
      "metadata": {
        "colab": {
          "base_uri": "https://localhost:8080/"
        },
        "id": "bbzgLl9JbRGt",
        "outputId": "a0df2d23-c0cb-47c4-e845-75c7b95800b3"
      },
      "execution_count": null,
      "outputs": [
        {
          "output_type": "execute_result",
          "data": {
            "text/plain": [
              "tensor(14)"
            ]
          },
          "metadata": {},
          "execution_count": 15
        }
      ]
    },
    {
      "cell_type": "code",
      "source": [
        "# matrix\n",
        "tensor_A = torch.tensor([[1, 2],\n",
        "                         [2, 3],\n",
        "                         [3, 4]], dtype = torch.float32)\n",
        "\n",
        "tensor_B = torch.tensor([[4, 3],\n",
        "                         [2, 3],\n",
        "                         [3, 4]], dtype = torch.float32)\n",
        "\n",
        "torch.matmul(tensor_A, tensor_B) # is not correct"
      ],
      "metadata": {
        "colab": {
          "base_uri": "https://localhost:8080/",
          "height": 176
        },
        "id": "kNEGzrn7bb0h",
        "outputId": "c5b5fb11-33a6-4bc5-d7cb-403915d96a7f"
      },
      "execution_count": null,
      "outputs": [
        {
          "output_type": "error",
          "ename": "RuntimeError",
          "evalue": "mat1 and mat2 shapes cannot be multiplied (3x2 and 3x2)",
          "traceback": [
            "\u001b[0;31m---------------------------------------------------------------------------\u001b[0m",
            "\u001b[0;31mRuntimeError\u001b[0m                              Traceback (most recent call last)",
            "\u001b[0;32m<ipython-input-16-857b4184d5ed>\u001b[0m in \u001b[0;36m<cell line: 10>\u001b[0;34m()\u001b[0m\n\u001b[1;32m      8\u001b[0m                          [3, 4]], dtype = torch.float32)\n\u001b[1;32m      9\u001b[0m \u001b[0;34m\u001b[0m\u001b[0m\n\u001b[0;32m---> 10\u001b[0;31m \u001b[0mtorch\u001b[0m\u001b[0;34m.\u001b[0m\u001b[0mmatmul\u001b[0m\u001b[0;34m(\u001b[0m\u001b[0mtensor_A\u001b[0m\u001b[0;34m,\u001b[0m \u001b[0mtensor_B\u001b[0m\u001b[0;34m)\u001b[0m \u001b[0;31m# is not correct\u001b[0m\u001b[0;34m\u001b[0m\u001b[0;34m\u001b[0m\u001b[0m\n\u001b[0m",
            "\u001b[0;31mRuntimeError\u001b[0m: mat1 and mat2 shapes cannot be multiplied (3x2 and 3x2)"
          ]
        }
      ]
    },
    {
      "cell_type": "code",
      "source": [
        "# how we transpose one of tensor\n",
        "\n",
        "print(tensor_A)\n",
        "print(tensor_B.T)"
      ],
      "metadata": {
        "colab": {
          "base_uri": "https://localhost:8080/"
        },
        "id": "otvG9L4OcaV7",
        "outputId": "92ac1514-5456-46ba-b11f-e5d5703451b6"
      },
      "execution_count": null,
      "outputs": [
        {
          "output_type": "stream",
          "name": "stdout",
          "text": [
            "tensor([[1., 2.],\n",
            "        [2., 3.],\n",
            "        [3., 4.]])\n",
            "tensor([[4., 2., 3.],\n",
            "        [3., 3., 4.]])\n"
          ]
        }
      ]
    },
    {
      "cell_type": "code",
      "source": [
        "# mm is short matmul\n",
        "torch.mm(tensor_A, tensor_B.T)"
      ],
      "metadata": {
        "colab": {
          "base_uri": "https://localhost:8080/"
        },
        "id": "HqpNRzyRc-6G",
        "outputId": "9bc1bb2e-e934-4481-a6cf-8f82fcfb9f8a"
      },
      "execution_count": null,
      "outputs": [
        {
          "output_type": "execute_result",
          "data": {
            "text/plain": [
              "tensor([[10.,  8., 11.],\n",
              "        [17., 13., 18.],\n",
              "        [24., 18., 25.]])"
            ]
          },
          "metadata": {},
          "execution_count": 18
        }
      ]
    },
    {
      "cell_type": "markdown",
      "source": [
        "y\n",
        "=\n",
        "x\n",
        "⋅\n",
        "A\n",
        "T\n",
        "+\n",
        "b"
      ],
      "metadata": {
        "id": "Exvo6MdsdhOl"
      }
    },
    {
      "cell_type": "markdown",
      "source": [
        "data Sample  :\n",
        "\n",
        "```python\n",
        "random_tensor =\n",
        "[[0.8331, 0.2715, 0.0583, 0.7611],\n",
        " [0.5846, 0.0061, 0.4948, 0.1087],\n",
        " [0.4553, 0.6904, 0.9140, 0.1416]]\n",
        "```\n",
        "- weight from input hidden layer:\n",
        "\n",
        "  W_hidden = [[0.1, 0.2], [0.3, 0.4], [0.5, 0.6], [0.7, 0.8]]\n",
        "- Bias of hidden layer:\n",
        "\n",
        "  b_hidden = [0.1, 0.2]\n",
        "- weight of hidden layer to output :\n",
        "  \n",
        "  W_output = [0.4, 0.5]\n",
        "- Bias of layer output:\n",
        "  \n",
        "  b_output = 0.3"
      ],
      "metadata": {
        "id": "yDfpV1X3e6f8"
      }
    },
    {
      "cell_type": "markdown",
      "source": [
        "Forward Propagation:\n",
        "Input in to hidden layer:\n",
        " - hidden_input = input.dot(W_hidden) + b_hidden\n",
        " - hidden_input =\n",
        "  \n",
        "```[[0.8331, 0.2715, 0.0583, 0.7611],\n",
        "      [0.5846, 0.0061, 0.4948, 0.1087],\n",
        "      [0.4553, 0.6904, 0.9140, 0.1416]]\n",
        "      dot\n",
        "      [[0.1, 0.2],\n",
        "      [0.3, 0.4],\n",
        "      [0.5, 0.6],\n",
        "      [0.7, 0.8]] +\n",
        "      [0.1, 0.2]\n",
        "```"
      ],
      "metadata": {
        "id": "TasfIWnPfeFi"
      }
    },
    {
      "cell_type": "code",
      "source": [
        "# feedforward layer\n",
        "torch.manual_seed(24)\n",
        "\n",
        "linear = torch.nn.Linear(in_features=2,\n",
        "                         out_features=6)\n",
        "\n",
        "x = tensor_A\n",
        "linear(x)"
      ],
      "metadata": {
        "colab": {
          "base_uri": "https://localhost:8080/"
        },
        "id": "1C5mIA4odeiQ",
        "outputId": "0cf92026-d08f-4922-c133-38883434b1a1"
      },
      "execution_count": null,
      "outputs": [
        {
          "output_type": "execute_result",
          "data": {
            "text/plain": [
              "tensor([[-0.5555, -0.7159,  0.7139,  0.7242,  0.0055, -0.3667],\n",
              "        [-0.3582, -1.2733,  1.0576,  1.0469, -0.3629, -0.4832],\n",
              "        [-0.1610, -1.8307,  1.4013,  1.3697, -0.7314, -0.5997]],\n",
              "       grad_fn=<AddmmBackward0>)"
            ]
          },
          "metadata": {},
          "execution_count": 19
        }
      ]
    },
    {
      "cell_type": "code",
      "source": [
        "# aggregation\n",
        "x = torch.arange(start = 0, end = 10, step = 2)\n",
        "print('min', min(x))\n",
        "print('max', max(x))\n",
        "print(f\"Mean: {x.type(torch.float32).mean()}\") # won't work without float datatype"
      ],
      "metadata": {
        "colab": {
          "base_uri": "https://localhost:8080/"
        },
        "id": "FV2O3QPTgUkM",
        "outputId": "e4c49e76-42de-4a4c-e682-cf9108fb171b"
      },
      "execution_count": null,
      "outputs": [
        {
          "output_type": "stream",
          "name": "stdout",
          "text": [
            "min tensor(0)\n",
            "max tensor(8)\n",
            "Mean: 4.0\n"
          ]
        }
      ]
    },
    {
      "cell_type": "code",
      "source": [
        "# positional\n",
        "tensor = torch.arange(0, 10, 1)\n",
        "\n",
        "print('min', tensor.argmax())\n",
        "print('max', tensor.argmin())"
      ],
      "metadata": {
        "colab": {
          "base_uri": "https://localhost:8080/"
        },
        "id": "v0CC3FOBhR_L",
        "outputId": "26198feb-4c11-4a99-98cb-8bc755540c38"
      },
      "execution_count": null,
      "outputs": [
        {
          "output_type": "stream",
          "name": "stdout",
          "text": [
            "min tensor(9)\n",
            "max tensor(0)\n"
          ]
        }
      ]
    },
    {
      "cell_type": "code",
      "source": [
        "# change dtype\n",
        "tensor.type(torch.int8)"
      ],
      "metadata": {
        "colab": {
          "base_uri": "https://localhost:8080/"
        },
        "id": "mZsfU4MrlNLv",
        "outputId": "1efe4eef-f118-43da-90d0-40d90c132104"
      },
      "execution_count": null,
      "outputs": [
        {
          "output_type": "execute_result",
          "data": {
            "text/plain": [
              "tensor([0, 1, 2, 3, 4, 5, 6, 7, 8, 9], dtype=torch.int8)"
            ]
          },
          "metadata": {},
          "execution_count": 22
        }
      ]
    },
    {
      "cell_type": "code",
      "source": [
        "# squeeze and unsqueze\n",
        "torch.unsqueeze(tensor, dim = 1)"
      ],
      "metadata": {
        "colab": {
          "base_uri": "https://localhost:8080/"
        },
        "id": "Ze16ReDel5i4",
        "outputId": "f0538415-43d3-4776-ad17-4efa95845c20"
      },
      "execution_count": null,
      "outputs": [
        {
          "output_type": "execute_result",
          "data": {
            "text/plain": [
              "tensor([[0],\n",
              "        [1],\n",
              "        [2],\n",
              "        [3],\n",
              "        [4],\n",
              "        [5],\n",
              "        [6],\n",
              "        [7],\n",
              "        [8],\n",
              "        [9]])"
            ]
          },
          "metadata": {},
          "execution_count": 28
        }
      ]
    },
    {
      "cell_type": "code",
      "source": [
        "torch.squeeze(tensor)"
      ],
      "metadata": {
        "colab": {
          "base_uri": "https://localhost:8080/"
        },
        "id": "H9TEkenimVCq",
        "outputId": "777253bf-afd6-4de4-e1b8-556d3bb333d4"
      },
      "execution_count": null,
      "outputs": [
        {
          "output_type": "execute_result",
          "data": {
            "text/plain": [
              "tensor([0, 1, 2, 3, 4, 5, 6, 7, 8, 9])"
            ]
          },
          "metadata": {},
          "execution_count": 29
        }
      ]
    },
    {
      "cell_type": "code",
      "source": [
        "# stack\n",
        "x = torch.arange(0, 8)\n",
        "\n",
        "x_stacked = torch.stack([x, x], dim = 0)\n",
        "\n",
        "x_stacked"
      ],
      "metadata": {
        "colab": {
          "base_uri": "https://localhost:8080/"
        },
        "id": "y2zzXzJomgua",
        "outputId": "e9177771-4638-4f1d-a34f-05d92d2fd1c3"
      },
      "execution_count": null,
      "outputs": [
        {
          "output_type": "execute_result",
          "data": {
            "text/plain": [
              "tensor([[0, 1, 2, 3, 4, 5, 6, 7],\n",
              "        [0, 1, 2, 3, 4, 5, 6, 7]])"
            ]
          },
          "metadata": {},
          "execution_count": 34
        }
      ]
    },
    {
      "cell_type": "code",
      "source": [
        "# indexing\n",
        "\n",
        "x = torch.arange(1, 10).reshape(1, 3, 3) # reshape matrix\n",
        "x"
      ],
      "metadata": {
        "colab": {
          "base_uri": "https://localhost:8080/"
        },
        "id": "Zsp3GysvnC--",
        "outputId": "1419619c-7c8c-4995-cf78-1845f74315fd"
      },
      "execution_count": null,
      "outputs": [
        {
          "output_type": "execute_result",
          "data": {
            "text/plain": [
              "tensor([[[1, 2, 3],\n",
              "         [4, 5, 6],\n",
              "         [7, 8, 9]]])"
            ]
          },
          "metadata": {},
          "execution_count": 38
        }
      ]
    },
    {
      "cell_type": "code",
      "source": [
        "# indexing bracket\n",
        "\n",
        "x[0][1]"
      ],
      "metadata": {
        "colab": {
          "base_uri": "https://localhost:8080/"
        },
        "id": "gBByF4lDnnUe",
        "outputId": "949f0360-e577-48a2-ad5a-81d3f09d69c1"
      },
      "execution_count": null,
      "outputs": [
        {
          "output_type": "execute_result",
          "data": {
            "text/plain": [
              "tensor([4, 5, 6])"
            ]
          },
          "metadata": {},
          "execution_count": 41
        }
      ]
    },
    {
      "cell_type": "code",
      "source": [
        "# indexing\n",
        "\n",
        "print('0 to 1 ', x[:, :, 1])\n",
        "print('1 to 1 ', x[:, 1, 1])"
      ],
      "metadata": {
        "colab": {
          "base_uri": "https://localhost:8080/"
        },
        "id": "6B935TpToSXQ",
        "outputId": "0831fc35-ca56-46b3-8e64-d682346e577b"
      },
      "execution_count": null,
      "outputs": [
        {
          "output_type": "stream",
          "name": "stdout",
          "text": [
            "0 to 1  tensor([[2, 5, 8]])\n",
            "0 to 1  tensor([5])\n"
          ]
        }
      ]
    },
    {
      "cell_type": "code",
      "source": [
        "# change array to tensor\n",
        "import numpy as np\n",
        "array = np.arange(1, 10, 1)\n",
        "tensor = torch.from_numpy(array)\n",
        "\n",
        "array, tensor"
      ],
      "metadata": {
        "colab": {
          "base_uri": "https://localhost:8080/"
        },
        "id": "1_yGZDz-pGS8",
        "outputId": "23729f4e-c1c9-4673-8d13-3905d7bf52ec"
      },
      "execution_count": null,
      "outputs": [
        {
          "output_type": "execute_result",
          "data": {
            "text/plain": [
              "(array([1, 2, 3, 4, 5, 6, 7, 8, 9]), tensor([1, 2, 3, 4, 5, 6, 7, 8, 9]))"
            ]
          },
          "metadata": {},
          "execution_count": 46
        }
      ]
    },
    {
      "cell_type": "code",
      "source": [
        "# learn about GPU\n",
        "!nvidia-smi"
      ],
      "metadata": {
        "colab": {
          "base_uri": "https://localhost:8080/"
        },
        "id": "h1DlO40ipo7e",
        "outputId": "f691a34b-e3c9-4156-f588-b1129455d7bc"
      },
      "execution_count": null,
      "outputs": [
        {
          "output_type": "stream",
          "name": "stdout",
          "text": [
            "Mon Apr 29 06:59:53 2024       \n",
            "+---------------------------------------------------------------------------------------+\n",
            "| NVIDIA-SMI 535.104.05             Driver Version: 535.104.05   CUDA Version: 12.2     |\n",
            "|-----------------------------------------+----------------------+----------------------+\n",
            "| GPU  Name                 Persistence-M | Bus-Id        Disp.A | Volatile Uncorr. ECC |\n",
            "| Fan  Temp   Perf          Pwr:Usage/Cap |         Memory-Usage | GPU-Util  Compute M. |\n",
            "|                                         |                      |               MIG M. |\n",
            "|=========================================+======================+======================|\n",
            "|   0  Tesla T4                       Off | 00000000:00:04.0 Off |                    0 |\n",
            "| N/A   57C    P8              10W /  70W |      0MiB / 15360MiB |      0%      Default |\n",
            "|                                         |                      |                  N/A |\n",
            "+-----------------------------------------+----------------------+----------------------+\n",
            "                                                                                         \n",
            "+---------------------------------------------------------------------------------------+\n",
            "| Processes:                                                                            |\n",
            "|  GPU   GI   CI        PID   Type   Process name                            GPU Memory |\n",
            "|        ID   ID                                                             Usage      |\n",
            "|=======================================================================================|\n",
            "|  No running processes found                                                           |\n",
            "+---------------------------------------------------------------------------------------+\n"
          ]
        }
      ]
    },
    {
      "cell_type": "code",
      "source": [
        "# run pytorch in GPU\n",
        "torch.cuda.is_available()"
      ],
      "metadata": {
        "colab": {
          "base_uri": "https://localhost:8080/"
        },
        "id": "B1iL8koPpzNB",
        "outputId": "600c41b8-848a-404f-ff2d-847444e0f031"
      },
      "execution_count": null,
      "outputs": [
        {
          "output_type": "execute_result",
          "data": {
            "text/plain": [
              "True"
            ]
          },
          "metadata": {},
          "execution_count": 4
        }
      ]
    },
    {
      "cell_type": "code",
      "source": [
        "# swicth cuda\n",
        "device = 'cuda' if torch.cuda.is_available() else 'cpu'\n",
        "device"
      ],
      "metadata": {
        "colab": {
          "base_uri": "https://localhost:8080/",
          "height": 35
        },
        "id": "GBt5hCdzqE5K",
        "outputId": "6e4ee4a8-9b33-4ebe-fca9-9e2adc61fe28"
      },
      "execution_count": null,
      "outputs": [
        {
          "output_type": "execute_result",
          "data": {
            "text/plain": [
              "'cpu'"
            ],
            "application/vnd.google.colaboratory.intrinsic+json": {
              "type": "string"
            }
          },
          "metadata": {},
          "execution_count": 5
        }
      ]
    }
  ]
}